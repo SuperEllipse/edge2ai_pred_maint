{
 "cells": [
  {
   "cell_type": "code",
   "execution_count": 50,
   "metadata": {},
   "outputs": [],
   "source": [
    "import pandas as pd\n",
    "import numpy as np\n",
    "import pickle\n",
    "from sklearn.preprocessing import StandardScaler\n",
    "from train_utils import processTestData, columnsToDrop"
   ]
  },
  {
   "cell_type": "code",
   "execution_count": 6,
   "metadata": {},
   "outputs": [
    {
     "name": "stdout",
     "output_type": "stream",
     "text": [
      "/Users/vrajagopalan/Work/GitHub/edge2ai_pred_maint-1/src\n"
     ]
    }
   ],
   "source": [
    "!pwd"
   ]
  },
  {
   "cell_type": "code",
   "execution_count": 61,
   "metadata": {},
   "outputs": [],
   "source": [
    "file = 'FD001'\n",
    "Cycle_Alert_Threshold = 40\n",
    "\n",
    "file_relative_path = \"../data/\"  ## To be changed to an environment variable\n",
    "\n",
    "filename     = \"test_\" + file + \".csv\"\n",
    "\n",
    "test_df = pd.read_csv(file_relative_path + filename)\n",
    "model_name = \"pred_RUL.pkl\"\n",
    "model_relative_path = \"../model/\"\n",
    "with open(model_relative_path + model_name, 'rb') as f:\n",
    "    serialized_list = pickle.load(f)\n",
    "scaler = serialized_list[0]\n",
    "model_reg = serialized_list[1]\n",
    "model_clf = serialized_list[2]\n",
    "colsDrop = columnsToDrop(test_df)\n",
    "X_test =  test_df.drop(columns= colsDrop).values\n",
    "X_test = scaler.transform(X_test)\n",
    "regr_results = model_reg.predict(X_test)\n",
    "clf_results = model_clf.predict(X_test)\n",
    "clf_probability =  model_clf.predict_proba(X_test)\n",
    "#X_test_results = np.concatenate((X_test, regr_results, clf_results, clf_probability), axis=1) -- gives shape mismatches\n",
    "#print(X_test.shape, regr_results.reshape((len(X_test),1)).shape, clf_probability[:,0].reshape((len(X_test),1)).shape, clf_results.reshape((len(X_test),1)).shape)\n",
    "#change from (100, ) to (100, 1) shape to facilitate concatenation\n",
    "regr_results = regr_results.reshape((len(X_test),1))\n",
    "#here we take just the probability of failure and discard the probabilty of non failure i.e the 2nd value \n",
    "clf_probability =  clf_probability[:,0].reshape((len(X_test),1))\n",
    "clf_results = clf_results.reshape((len(X_test),1))\n",
    "#X_test_results = np.concatenate((X_test, regr_results, clf_results, clf_probability), axis=1)\n",
    "#print(X_test.shape, X_test_results.shape) # we added 3 columns, RUL Regressor/ Forecaster, Failure or Non Failure based on threshold at training, Probability of Failure\n",
    "X_results = np.concatenate(( regr_results, clf_results, clf_probability), axis=1)\n",
    "column_values = ['RUL_FORECAST', 'FAIL_PREDICTION', 'FAIL_PROBABILITY']\n",
    "results_df = pd.DataFrame(data=X_results, columns=column_values)\n",
    "test_with_results_df = pd.concat([test_df, results_df], axis=1)\n",
    "test_with_results_df.rename(columns = {'ENGINE_NUMBER': 'MACHINE_NUMBER'}, inplace=True)\n",
    "\n",
    "\n",
    "test_with_results_df.head()\n",
    "test_with_results_df.to_csv(\"../results/predictions_\" + file+\".csv\")"
   ]
  },
  {
   "cell_type": "code",
   "execution_count": 60,
   "metadata": {},
   "outputs": [
    {
     "data": {
      "text/html": [
       "<div>\n",
       "<style scoped>\n",
       "    .dataframe tbody tr th:only-of-type {\n",
       "        vertical-align: middle;\n",
       "    }\n",
       "\n",
       "    .dataframe tbody tr th {\n",
       "        vertical-align: top;\n",
       "    }\n",
       "\n",
       "    .dataframe thead th {\n",
       "        text-align: right;\n",
       "    }\n",
       "</style>\n",
       "<table border=\"1\" class=\"dataframe\">\n",
       "  <thead>\n",
       "    <tr style=\"text-align: right;\">\n",
       "      <th></th>\n",
       "      <th>RUL_FORECAST</th>\n",
       "      <th>FAIL_PREDICTION</th>\n",
       "      <th>FAIL_PROBABILITY</th>\n",
       "    </tr>\n",
       "  </thead>\n",
       "  <tbody>\n",
       "    <tr>\n",
       "      <th>0</th>\n",
       "      <td>126.200455</td>\n",
       "      <td>0.0</td>\n",
       "      <td>0.879432</td>\n",
       "    </tr>\n",
       "    <tr>\n",
       "      <th>1</th>\n",
       "      <td>124.112259</td>\n",
       "      <td>0.0</td>\n",
       "      <td>0.879432</td>\n",
       "    </tr>\n",
       "    <tr>\n",
       "      <th>2</th>\n",
       "      <td>121.422997</td>\n",
       "      <td>0.0</td>\n",
       "      <td>0.879432</td>\n",
       "    </tr>\n",
       "    <tr>\n",
       "      <th>3</th>\n",
       "      <td>118.583107</td>\n",
       "      <td>0.0</td>\n",
       "      <td>0.879432</td>\n",
       "    </tr>\n",
       "    <tr>\n",
       "      <th>4</th>\n",
       "      <td>131.348526</td>\n",
       "      <td>0.0</td>\n",
       "      <td>0.879432</td>\n",
       "    </tr>\n",
       "  </tbody>\n",
       "</table>\n",
       "</div>"
      ],
      "text/plain": [
       "   RUL_FORECAST  FAIL_PREDICTION  FAIL_PROBABILITY\n",
       "0    126.200455              0.0          0.879432\n",
       "1    124.112259              0.0          0.879432\n",
       "2    121.422997              0.0          0.879432\n",
       "3    118.583107              0.0          0.879432\n",
       "4    131.348526              0.0          0.879432"
      ]
     },
     "execution_count": 60,
     "metadata": {},
     "output_type": "execute_result"
    }
   ],
   "source": [
    "results_df.head()"
   ]
  },
  {
   "cell_type": "code",
   "execution_count": null,
   "metadata": {},
   "outputs": [],
   "source": []
  }
 ],
 "metadata": {
  "interpreter": {
   "hash": "37ca0e02801fd09c29446b0a57931fa7c8bd3a33e756703b12919ee4e41e85db"
  },
  "kernelspec": {
   "display_name": "Python 3.8.9 64-bit",
   "language": "python",
   "name": "python3"
  },
  "language_info": {
   "codemirror_mode": {
    "name": "ipython",
    "version": 3
   },
   "file_extension": ".py",
   "mimetype": "text/x-python",
   "name": "python",
   "nbconvert_exporter": "python",
   "pygments_lexer": "ipython3",
   "version": "3.8.9"
  },
  "orig_nbformat": 4
 },
 "nbformat": 4,
 "nbformat_minor": 2
}
